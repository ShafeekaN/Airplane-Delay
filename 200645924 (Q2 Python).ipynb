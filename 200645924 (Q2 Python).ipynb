{
 "cells": [
  {
   "cell_type": "code",
   "execution_count": 1,
   "id": "c8ed0ab2",
   "metadata": {},
   "outputs": [],
   "source": [
    "import numpy as np\n",
    "import pandas as pd\n",
    "import matplotlib.pyplot as plt \n",
    "import seaborn as sns"
   ]
  },
  {
   "cell_type": "markdown",
   "id": "6606ec9a",
   "metadata": {},
   "source": [
    "## Importing clean dataset"
   ]
  },
  {
   "cell_type": "code",
   "execution_count": 2,
   "id": "226800a2",
   "metadata": {},
   "outputs": [],
   "source": [
    "full_dataset = pd.read_csv(\"D:/programming/full_datasetpy.csv\")\n",
    "plane_data = pd.read_csv(\"D:/programming/dataverse_files/plane_data.csv\")"
   ]
  },
  {
   "cell_type": "markdown",
   "id": "233fa10b",
   "metadata": {},
   "source": [
    "## Subsetting only necessary columns"
   ]
  },
  {
   "cell_type": "code",
   "execution_count": 5,
   "id": "4f307e21",
   "metadata": {},
   "outputs": [],
   "source": [
    "full_dataset = full_dataset[[\"Year\",\"ArrDelay\",\"DepDelay\", \"CRSArrTime\", \"CRSDepTime\",\"TailNum\"]]\n",
    "plane_data = plane_data[[\"year\",\"tailnum\"]]"
   ]
  },
  {
   "cell_type": "markdown",
   "id": "b72dc259",
   "metadata": {},
   "source": [
    "## merging the plane and clean dataset by tail number"
   ]
  },
  {
   "cell_type": "code",
   "execution_count": 7,
   "id": "0797d4b0",
   "metadata": {},
   "outputs": [],
   "source": [
    "plane_data.rename(\n",
    "    columns={\"year\":\"yearofmanu\",\n",
    "                \"tailnum\":\"TailNum\"}\n",
    "          ,inplace=True)"
   ]
  },
  {
   "cell_type": "code",
   "execution_count": 8,
   "id": "740d4a23",
   "metadata": {},
   "outputs": [],
   "source": [
    "merged_set = full_dataset.merge(plane_data, how = 'right')"
   ]
  },
  {
   "cell_type": "code",
   "execution_count": 9,
   "id": "eb2e467a",
   "metadata": {},
   "outputs": [],
   "source": [
    "merged_set = merged_set.dropna()"
   ]
  },
  {
   "cell_type": "code",
   "execution_count": 10,
   "id": "2618c354",
   "metadata": {},
   "outputs": [
    {
     "data": {
      "text/html": [
       "<div>\n",
       "<style scoped>\n",
       "    .dataframe tbody tr th:only-of-type {\n",
       "        vertical-align: middle;\n",
       "    }\n",
       "\n",
       "    .dataframe tbody tr th {\n",
       "        vertical-align: top;\n",
       "    }\n",
       "\n",
       "    .dataframe thead th {\n",
       "        text-align: right;\n",
       "    }\n",
       "</style>\n",
       "<table border=\"1\" class=\"dataframe\">\n",
       "  <thead>\n",
       "    <tr style=\"text-align: right;\">\n",
       "      <th></th>\n",
       "      <th>Year</th>\n",
       "      <th>ArrDelay</th>\n",
       "      <th>DepDelay</th>\n",
       "      <th>CRSArrTime</th>\n",
       "      <th>CRSDepTime</th>\n",
       "      <th>TailNum</th>\n",
       "      <th>yearofmanu</th>\n",
       "    </tr>\n",
       "  </thead>\n",
       "  <tbody>\n",
       "    <tr>\n",
       "      <th>0</th>\n",
       "      <td>2005.0</td>\n",
       "      <td>-1.0</td>\n",
       "      <td>2.0</td>\n",
       "      <td>1705.0</td>\n",
       "      <td>1545.0</td>\n",
       "      <td>N10156</td>\n",
       "      <td>2004</td>\n",
       "    </tr>\n",
       "    <tr>\n",
       "      <th>1</th>\n",
       "      <td>2005.0</td>\n",
       "      <td>33.0</td>\n",
       "      <td>10.0</td>\n",
       "      <td>1342.0</td>\n",
       "      <td>1135.0</td>\n",
       "      <td>N10156</td>\n",
       "      <td>2004</td>\n",
       "    </tr>\n",
       "    <tr>\n",
       "      <th>2</th>\n",
       "      <td>2005.0</td>\n",
       "      <td>11.0</td>\n",
       "      <td>-8.0</td>\n",
       "      <td>1005.0</td>\n",
       "      <td>900.0</td>\n",
       "      <td>N10156</td>\n",
       "      <td>2004</td>\n",
       "    </tr>\n",
       "    <tr>\n",
       "      <th>3</th>\n",
       "      <td>2005.0</td>\n",
       "      <td>42.0</td>\n",
       "      <td>48.0</td>\n",
       "      <td>1023.0</td>\n",
       "      <td>630.0</td>\n",
       "      <td>N10156</td>\n",
       "      <td>2004</td>\n",
       "    </tr>\n",
       "    <tr>\n",
       "      <th>4</th>\n",
       "      <td>2005.0</td>\n",
       "      <td>31.0</td>\n",
       "      <td>-4.0</td>\n",
       "      <td>1710.0</td>\n",
       "      <td>1530.0</td>\n",
       "      <td>N10156</td>\n",
       "      <td>2004</td>\n",
       "    </tr>\n",
       "  </tbody>\n",
       "</table>\n",
       "</div>"
      ],
      "text/plain": [
       "     Year  ArrDelay  DepDelay  CRSArrTime  CRSDepTime TailNum yearofmanu\n",
       "0  2005.0      -1.0       2.0      1705.0      1545.0  N10156       2004\n",
       "1  2005.0      33.0      10.0      1342.0      1135.0  N10156       2004\n",
       "2  2005.0      11.0      -8.0      1005.0       900.0  N10156       2004\n",
       "3  2005.0      42.0      48.0      1023.0       630.0  N10156       2004\n",
       "4  2005.0      31.0      -4.0      1710.0      1530.0  N10156       2004"
      ]
     },
     "execution_count": 10,
     "metadata": {},
     "output_type": "execute_result"
    }
   ],
   "source": [
    "merged_set.head()"
   ]
  },
  {
   "cell_type": "markdown",
   "id": "d05d1ea5",
   "metadata": {},
   "source": [
    "## converting year of manufacture to float"
   ]
  },
  {
   "cell_type": "code",
   "execution_count": 11,
   "id": "401e9911",
   "metadata": {},
   "outputs": [],
   "source": [
    "merged_set['yearofmanu'] = pd.to_numeric(merged_set['yearofmanu'], errors = 'coerce')"
   ]
  },
  {
   "cell_type": "code",
   "execution_count": 12,
   "id": "7d766954",
   "metadata": {},
   "outputs": [
    {
     "data": {
      "text/plain": [
       "Year          float64\n",
       "ArrDelay      float64\n",
       "DepDelay      float64\n",
       "CRSArrTime    float64\n",
       "CRSDepTime    float64\n",
       "TailNum        object\n",
       "yearofmanu    float64\n",
       "dtype: object"
      ]
     },
     "execution_count": 12,
     "metadata": {},
     "output_type": "execute_result"
    }
   ],
   "source": [
    "merged_set.dtypes"
   ]
  },
  {
   "cell_type": "markdown",
   "id": "e36c78eb",
   "metadata": {},
   "source": [
    "## Taking only the years that are relevant"
   ]
  },
  {
   "cell_type": "code",
   "execution_count": 13,
   "id": "8fb23d31",
   "metadata": {},
   "outputs": [],
   "source": [
    "merged_set = merged_set[(merged_set.yearofmanu >= 1956) & (merged_set.yearofmanu <= 2006)]"
   ]
  },
  {
   "cell_type": "code",
   "execution_count": 14,
   "id": "e6fb336b",
   "metadata": {},
   "outputs": [
    {
     "data": {
      "text/html": [
       "<div>\n",
       "<style scoped>\n",
       "    .dataframe tbody tr th:only-of-type {\n",
       "        vertical-align: middle;\n",
       "    }\n",
       "\n",
       "    .dataframe tbody tr th {\n",
       "        vertical-align: top;\n",
       "    }\n",
       "\n",
       "    .dataframe thead th {\n",
       "        text-align: right;\n",
       "    }\n",
       "</style>\n",
       "<table border=\"1\" class=\"dataframe\">\n",
       "  <thead>\n",
       "    <tr style=\"text-align: right;\">\n",
       "      <th></th>\n",
       "      <th>Year</th>\n",
       "      <th>ArrDelay</th>\n",
       "      <th>DepDelay</th>\n",
       "      <th>CRSArrTime</th>\n",
       "      <th>CRSDepTime</th>\n",
       "      <th>TailNum</th>\n",
       "      <th>yearofmanu</th>\n",
       "    </tr>\n",
       "  </thead>\n",
       "  <tbody>\n",
       "    <tr>\n",
       "      <th>0</th>\n",
       "      <td>2005.0</td>\n",
       "      <td>-1.0</td>\n",
       "      <td>2.0</td>\n",
       "      <td>1705.0</td>\n",
       "      <td>1545.0</td>\n",
       "      <td>N10156</td>\n",
       "      <td>2004.0</td>\n",
       "    </tr>\n",
       "    <tr>\n",
       "      <th>1</th>\n",
       "      <td>2005.0</td>\n",
       "      <td>33.0</td>\n",
       "      <td>10.0</td>\n",
       "      <td>1342.0</td>\n",
       "      <td>1135.0</td>\n",
       "      <td>N10156</td>\n",
       "      <td>2004.0</td>\n",
       "    </tr>\n",
       "    <tr>\n",
       "      <th>2</th>\n",
       "      <td>2005.0</td>\n",
       "      <td>11.0</td>\n",
       "      <td>-8.0</td>\n",
       "      <td>1005.0</td>\n",
       "      <td>900.0</td>\n",
       "      <td>N10156</td>\n",
       "      <td>2004.0</td>\n",
       "    </tr>\n",
       "    <tr>\n",
       "      <th>3</th>\n",
       "      <td>2005.0</td>\n",
       "      <td>42.0</td>\n",
       "      <td>48.0</td>\n",
       "      <td>1023.0</td>\n",
       "      <td>630.0</td>\n",
       "      <td>N10156</td>\n",
       "      <td>2004.0</td>\n",
       "    </tr>\n",
       "    <tr>\n",
       "      <th>4</th>\n",
       "      <td>2005.0</td>\n",
       "      <td>31.0</td>\n",
       "      <td>-4.0</td>\n",
       "      <td>1710.0</td>\n",
       "      <td>1530.0</td>\n",
       "      <td>N10156</td>\n",
       "      <td>2004.0</td>\n",
       "    </tr>\n",
       "  </tbody>\n",
       "</table>\n",
       "</div>"
      ],
      "text/plain": [
       "     Year  ArrDelay  DepDelay  CRSArrTime  CRSDepTime TailNum  yearofmanu\n",
       "0  2005.0      -1.0       2.0      1705.0      1545.0  N10156      2004.0\n",
       "1  2005.0      33.0      10.0      1342.0      1135.0  N10156      2004.0\n",
       "2  2005.0      11.0      -8.0      1005.0       900.0  N10156      2004.0\n",
       "3  2005.0      42.0      48.0      1023.0       630.0  N10156      2004.0\n",
       "4  2005.0      31.0      -4.0      1710.0      1530.0  N10156      2004.0"
      ]
     },
     "execution_count": 14,
     "metadata": {},
     "output_type": "execute_result"
    }
   ],
   "source": [
    "merged_set.head()"
   ]
  },
  {
   "cell_type": "code",
   "execution_count": 15,
   "id": "915eb20a",
   "metadata": {},
   "outputs": [],
   "source": [
    "mean_delay = (merged_set[\"ArrDelay\"] + merged_set[\"DepDelay\"]) / 2\n",
    "merged_set[\"mean_delay\"] = mean_delay"
   ]
  },
  {
   "cell_type": "markdown",
   "id": "76078b93",
   "metadata": {},
   "source": [
    "## finding if older planes delayed more"
   ]
  },
  {
   "cell_type": "code",
   "execution_count": 16,
   "id": "428a8cb6",
   "metadata": {},
   "outputs": [],
   "source": [
    "delay_by_year = merged_set[[\"yearofmanu\",\"mean_delay\"]]\n",
    "delay_by_year = delay_by_year.groupby(['yearofmanu']).mean()"
   ]
  },
  {
   "cell_type": "code",
   "execution_count": 17,
   "id": "9c00084a",
   "metadata": {},
   "outputs": [
    {
     "data": {
      "text/html": [
       "<div>\n",
       "<style scoped>\n",
       "    .dataframe tbody tr th:only-of-type {\n",
       "        vertical-align: middle;\n",
       "    }\n",
       "\n",
       "    .dataframe tbody tr th {\n",
       "        vertical-align: top;\n",
       "    }\n",
       "\n",
       "    .dataframe thead th {\n",
       "        text-align: right;\n",
       "    }\n",
       "</style>\n",
       "<table border=\"1\" class=\"dataframe\">\n",
       "  <thead>\n",
       "    <tr style=\"text-align: right;\">\n",
       "      <th></th>\n",
       "      <th>mean_delay</th>\n",
       "    </tr>\n",
       "    <tr>\n",
       "      <th>yearofmanu</th>\n",
       "      <th></th>\n",
       "    </tr>\n",
       "  </thead>\n",
       "  <tbody>\n",
       "    <tr>\n",
       "      <th>1956.0</th>\n",
       "      <td>8.271140</td>\n",
       "    </tr>\n",
       "    <tr>\n",
       "      <th>1957.0</th>\n",
       "      <td>3.705226</td>\n",
       "    </tr>\n",
       "    <tr>\n",
       "      <th>1959.0</th>\n",
       "      <td>9.348733</td>\n",
       "    </tr>\n",
       "    <tr>\n",
       "      <th>1962.0</th>\n",
       "      <td>8.393275</td>\n",
       "    </tr>\n",
       "    <tr>\n",
       "      <th>1963.0</th>\n",
       "      <td>8.061177</td>\n",
       "    </tr>\n",
       "  </tbody>\n",
       "</table>\n",
       "</div>"
      ],
      "text/plain": [
       "            mean_delay\n",
       "yearofmanu            \n",
       "1956.0        8.271140\n",
       "1957.0        3.705226\n",
       "1959.0        9.348733\n",
       "1962.0        8.393275\n",
       "1963.0        8.061177"
      ]
     },
     "execution_count": 17,
     "metadata": {},
     "output_type": "execute_result"
    }
   ],
   "source": [
    "delay_by_year.head()"
   ]
  },
  {
   "cell_type": "code",
   "execution_count": 18,
   "id": "284c778b",
   "metadata": {},
   "outputs": [],
   "source": [
    "delay_by_year = delay_by_year.reset_index()"
   ]
  },
  {
   "cell_type": "code",
   "execution_count": 19,
   "id": "bb5a6d1c",
   "metadata": {},
   "outputs": [
    {
     "data": {
      "text/html": [
       "<div>\n",
       "<style scoped>\n",
       "    .dataframe tbody tr th:only-of-type {\n",
       "        vertical-align: middle;\n",
       "    }\n",
       "\n",
       "    .dataframe tbody tr th {\n",
       "        vertical-align: top;\n",
       "    }\n",
       "\n",
       "    .dataframe thead th {\n",
       "        text-align: right;\n",
       "    }\n",
       "</style>\n",
       "<table border=\"1\" class=\"dataframe\">\n",
       "  <thead>\n",
       "    <tr style=\"text-align: right;\">\n",
       "      <th></th>\n",
       "      <th>yearofmanu</th>\n",
       "      <th>mean_delay</th>\n",
       "    </tr>\n",
       "  </thead>\n",
       "  <tbody>\n",
       "    <tr>\n",
       "      <th>0</th>\n",
       "      <td>1956.0</td>\n",
       "      <td>8.271140</td>\n",
       "    </tr>\n",
       "    <tr>\n",
       "      <th>1</th>\n",
       "      <td>1957.0</td>\n",
       "      <td>3.705226</td>\n",
       "    </tr>\n",
       "    <tr>\n",
       "      <th>2</th>\n",
       "      <td>1959.0</td>\n",
       "      <td>9.348733</td>\n",
       "    </tr>\n",
       "    <tr>\n",
       "      <th>3</th>\n",
       "      <td>1962.0</td>\n",
       "      <td>8.393275</td>\n",
       "    </tr>\n",
       "    <tr>\n",
       "      <th>4</th>\n",
       "      <td>1963.0</td>\n",
       "      <td>8.061177</td>\n",
       "    </tr>\n",
       "  </tbody>\n",
       "</table>\n",
       "</div>"
      ],
      "text/plain": [
       "   yearofmanu  mean_delay\n",
       "0      1956.0    8.271140\n",
       "1      1957.0    3.705226\n",
       "2      1959.0    9.348733\n",
       "3      1962.0    8.393275\n",
       "4      1963.0    8.061177"
      ]
     },
     "execution_count": 19,
     "metadata": {},
     "output_type": "execute_result"
    }
   ],
   "source": [
    "delay_by_year.head()"
   ]
  },
  {
   "cell_type": "markdown",
   "id": "4544be70",
   "metadata": {},
   "source": [
    "## Data visualisation using scatter plot and line of best fit"
   ]
  },
  {
   "cell_type": "code",
   "execution_count": 24,
   "id": "85b9332f",
   "metadata": {},
   "outputs": [
    {
     "data": {
      "image/png": "[encoded data removed]",
      "text/plain": [
       "<Figure size 720x576 with 1 Axes>"
      ]
     },
     "metadata": {},
     "output_type": "display_data"
    }
   ],
   "source": [
    "sns.set(rc={'figure.figsize':(10,8)})\n",
    "sns.regplot(x=\"yearofmanu\", y=\"mean_delay\", data=delay_by_year)\n",
    "plt.savefig('regplotq2.png')"
   ]
  },
  {
   "cell_type": "code",
   "execution_count": null,
   "id": "36e01708",
   "metadata": {},
   "outputs": [],
   "source": [
    "np.corrcoef(delay_by_year['mean_delay'], delay_by_year['yearofmanu'])"
   ]
  }
 ],
 "metadata": {
  "kernelspec": {
   "display_name": "Python 3 (ipykernel)",
   "language": "python",
   "name": "python3"
  },
  "language_info": {
   "codemirror_mode": {
    "name": "ipython",
    "version": 3
   },
   "file_extension": ".py",
   "mimetype": "text/x-python",
   "name": "python",
   "nbconvert_exporter": "python",
   "pygments_lexer": "ipython3",
   "version": "3.9.7"
  }
 },
 "nbformat": 4,
 "nbformat_minor": 5
}
